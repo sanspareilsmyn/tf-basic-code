{
 "cells": [
  {
   "cell_type": "code",
   "execution_count": 1,
   "metadata": {},
   "outputs": [
    {
     "name": "stdout",
     "output_type": "stream",
     "text": [
      "Note: you may need to restart the kernel to use updated packages.\n"
     ]
    }
   ],
   "source": [
    "pip install -q pyyaml h5py"
   ]
  },
  {
   "cell_type": "code",
   "execution_count": 2,
   "metadata": {},
   "outputs": [
    {
     "name": "stdout",
     "output_type": "stream",
     "text": [
      "2.3.1\n"
     ]
    }
   ],
   "source": [
    "import os\n",
    "\n",
    "import tensorflow as tf\n",
    "from tensorflow import keras\n",
    "\n",
    "print(tf.version.VERSION)"
   ]
  },
  {
   "cell_type": "code",
   "execution_count": 3,
   "metadata": {},
   "outputs": [
    {
     "name": "stdout",
     "output_type": "stream",
     "text": [
      "Downloading data from https://storage.googleapis.com/tensorflow/tf-keras-datasets/mnist.npz\n",
      "11493376/11490434 [==============================] - 11s 1us/step\n"
     ]
    }
   ],
   "source": [
    "(train_images, train_labels), (test_images, test_labels) = tf.keras.datasets.mnist.load_data()"
   ]
  },
  {
   "cell_type": "code",
   "execution_count": 4,
   "metadata": {},
   "outputs": [],
   "source": [
    "train_labels = train_labels[:1000]\n",
    "test_labels = test_labels[:1000]"
   ]
  },
  {
   "cell_type": "code",
   "execution_count": 5,
   "metadata": {},
   "outputs": [],
   "source": [
    "train_images = train_images[:1000].reshape(-1, 28 * 28) / 255.0\n",
    "test_images = test_images[:1000].reshape(-1, 28 * 28) / 255.0"
   ]
  },
  {
   "cell_type": "code",
   "execution_count": 6,
   "metadata": {},
   "outputs": [],
   "source": [
    "def create_model():\n",
    "    model = tf.keras.models.Sequential([\n",
    "        keras.layers.Dense(512, activation='relu', input_shape=(784,)),\n",
    "        keras.layers.Dropout(0.2),\n",
    "        keras.layers.Dense(10)\n",
    "  ])\n",
    "\n",
    "    model.compile(optimizer='adam',\n",
    "                loss=tf.losses.SparseCategoricalCrossentropy(from_logits=True),\n",
    "                metrics=['accuracy'])\n",
    "\n",
    "    return model"
   ]
  },
  {
   "cell_type": "code",
   "execution_count": 7,
   "metadata": {},
   "outputs": [],
   "source": [
    "model = create_model()"
   ]
  },
  {
   "cell_type": "code",
   "execution_count": 8,
   "metadata": {},
   "outputs": [
    {
     "name": "stdout",
     "output_type": "stream",
     "text": [
      "Model: \"sequential\"\n",
      "_________________________________________________________________\n",
      "Layer (type)                 Output Shape              Param #   \n",
      "=================================================================\n",
      "dense (Dense)                (None, 512)               401920    \n",
      "_________________________________________________________________\n",
      "dropout (Dropout)            (None, 512)               0         \n",
      "_________________________________________________________________\n",
      "dense_1 (Dense)              (None, 10)                5130      \n",
      "=================================================================\n",
      "Total params: 407,050\n",
      "Trainable params: 407,050\n",
      "Non-trainable params: 0\n",
      "_________________________________________________________________\n"
     ]
    }
   ],
   "source": [
    "model.summary()"
   ]
  },
  {
   "cell_type": "code",
   "execution_count": 10,
   "metadata": {},
   "outputs": [],
   "source": [
    "checkpoint_path = \"training_1/cp.ckpt\"\n",
    "checkpoint_dir = os.path.dirname(checkpoint_path)\n",
    "\n",
    "cp_callback = tf.keras.callbacks.ModelCheckpoint(filepath=checkpoint_path,\n",
    "                                                save_weights_only=True,\n",
    "                                                verbose=1)"
   ]
  },
  {
   "cell_type": "code",
   "execution_count": 11,
   "metadata": {},
   "outputs": [
    {
     "name": "stdout",
     "output_type": "stream",
     "text": [
      "Epoch 1/10\n",
      "23/32 [====================>.........] - ETA: 0s - loss: 1.4024 - accuracy: 0.5774    \n",
      "Epoch 00001: saving model to training_1/cp.ckpt\n",
      "32/32 [==============================] - 0s 9ms/step - loss: 1.2161 - accuracy: 0.6410 - val_loss: 0.7357 - val_accuracy: 0.7750\n",
      "Epoch 2/10\n",
      "24/32 [=====================>........] - ETA: 0s - loss: 0.4549 - accuracy: 0.8750\n",
      "Epoch 00002: saving model to training_1/cp.ckpt\n",
      "32/32 [==============================] - 0s 4ms/step - loss: 0.4251 - accuracy: 0.8820 - val_loss: 0.5424 - val_accuracy: 0.8340\n",
      "Epoch 3/10\n",
      "24/32 [=====================>........] - ETA: 0s - loss: 0.2902 - accuracy: 0.9219\n",
      "Epoch 00003: saving model to training_1/cp.ckpt\n",
      "32/32 [==============================] - 0s 4ms/step - loss: 0.2900 - accuracy: 0.9190 - val_loss: 0.4640 - val_accuracy: 0.8540\n",
      "Epoch 4/10\n",
      "25/32 [======================>.......] - ETA: 0s - loss: 0.2187 - accuracy: 0.9413\n",
      "Epoch 00004: saving model to training_1/cp.ckpt\n",
      "32/32 [==============================] - 0s 5ms/step - loss: 0.2155 - accuracy: 0.9410 - val_loss: 0.4290 - val_accuracy: 0.8650\n",
      "Epoch 5/10\n",
      "27/32 [========================>.....] - ETA: 0s - loss: 0.1545 - accuracy: 0.9641\n",
      "Epoch 00005: saving model to training_1/cp.ckpt\n",
      "32/32 [==============================] - 0s 6ms/step - loss: 0.1566 - accuracy: 0.9630 - val_loss: 0.4054 - val_accuracy: 0.8640\n",
      "Epoch 6/10\n",
      "19/32 [================>.............] - ETA: 0s - loss: 0.1026 - accuracy: 0.9819\n",
      "Epoch 00006: saving model to training_1/cp.ckpt\n",
      "32/32 [==============================] - 0s 5ms/step - loss: 0.1107 - accuracy: 0.9790 - val_loss: 0.4105 - val_accuracy: 0.8610\n",
      "Epoch 7/10\n",
      "23/32 [====================>.........] - ETA: 0s - loss: 0.0808 - accuracy: 0.9918\n",
      "Epoch 00007: saving model to training_1/cp.ckpt\n",
      "32/32 [==============================] - 0s 4ms/step - loss: 0.0843 - accuracy: 0.9930 - val_loss: 0.4198 - val_accuracy: 0.8620\n",
      "Epoch 8/10\n",
      "23/32 [====================>.........] - ETA: 0s - loss: 0.0581 - accuracy: 0.9973\n",
      "Epoch 00008: saving model to training_1/cp.ckpt\n",
      "32/32 [==============================] - 0s 4ms/step - loss: 0.0616 - accuracy: 0.9930 - val_loss: 0.3940 - val_accuracy: 0.8760\n",
      "Epoch 9/10\n",
      "24/32 [=====================>........] - ETA: 0s - loss: 0.0455 - accuracy: 0.9987\n",
      "Epoch 00009: saving model to training_1/cp.ckpt\n",
      "32/32 [==============================] - 0s 4ms/step - loss: 0.0471 - accuracy: 0.9980 - val_loss: 0.4080 - val_accuracy: 0.8650\n",
      "Epoch 10/10\n",
      "18/32 [===============>..............] - ETA: 0s - loss: 0.0399 - accuracy: 0.9983\n",
      "Epoch 00010: saving model to training_1/cp.ckpt\n",
      "32/32 [==============================] - 0s 5ms/step - loss: 0.0442 - accuracy: 0.9960 - val_loss: 0.4252 - val_accuracy: 0.8620\n"
     ]
    },
    {
     "data": {
      "text/plain": [
       "<tensorflow.python.keras.callbacks.History at 0x133a8d430>"
      ]
     },
     "execution_count": 11,
     "metadata": {},
     "output_type": "execute_result"
    }
   ],
   "source": [
    "model.fit(train_images,\n",
    "         train_labels,\n",
    "         epochs=10,\n",
    "         validation_data=(test_images, test_labels),\n",
    "         callbacks=[cp_callback])"
   ]
  },
  {
   "cell_type": "code",
   "execution_count": 12,
   "metadata": {},
   "outputs": [
    {
     "name": "stdout",
     "output_type": "stream",
     "text": [
      "checkpoint                   cp.ckpt.index\r\n",
      "cp.ckpt.data-00000-of-00001\r\n"
     ]
    }
   ],
   "source": [
    "ls {checkpoint_dir}"
   ]
  },
  {
   "cell_type": "code",
   "execution_count": 13,
   "metadata": {},
   "outputs": [
    {
     "name": "stdout",
     "output_type": "stream",
     "text": [
      "32/32 - 0s - loss: 2.3786 - accuracy: 0.0900\n",
      "훈련되지 않은 모델의 정확도:  9.00%\n"
     ]
    }
   ],
   "source": [
    "model = create_model()\n",
    "\n",
    "loss, acc = model.evaluate(test_images, test_labels, verbose=2)\n",
    "print(\"훈련되지 않은 모델의 정확도: {:5.2f}%\".format(100*acc))"
   ]
  },
  {
   "cell_type": "code",
   "execution_count": 15,
   "metadata": {},
   "outputs": [
    {
     "name": "stdout",
     "output_type": "stream",
     "text": [
      "32/32 - 0s - loss: 0.4252 - accuracy: 0.8620\n",
      "복원된 모델의 정확도: 86.20%\n"
     ]
    }
   ],
   "source": [
    "model.load_weights(checkpoint_path)\n",
    "\n",
    "loss,acc = model.evaluate(test_images,  test_labels, verbose=2)\n",
    "print(\"복원된 모델의 정확도: {:5.2f}%\".format(100*acc))"
   ]
  },
  {
   "cell_type": "markdown",
   "metadata": {},
   "source": [
    "## Epoch별로 weight 저장"
   ]
  },
  {
   "cell_type": "code",
   "execution_count": 17,
   "metadata": {},
   "outputs": [],
   "source": [
    "checkpoint_path = \"training_2/cp-{epoch:04d}.ckpt\"\n",
    "checkpoint_dir = os.path.dirname(checkpoint_path)\n",
    "\n",
    "# 다섯 번째 에포크마다 가중치를 저장\n",
    "cp_callback = tf.keras.callbacks.ModelCheckpoint(\n",
    "    filepath=checkpoint_path, \n",
    "    verbose=1, \n",
    "    save_weights_only=True,\n",
    "    save_freq=5)"
   ]
  },
  {
   "cell_type": "code",
   "execution_count": 18,
   "metadata": {},
   "outputs": [],
   "source": [
    "model = create_model()"
   ]
  },
  {
   "cell_type": "code",
   "execution_count": 20,
   "metadata": {},
   "outputs": [],
   "source": [
    "model.save_weights(checkpoint_path.format(epoch=0))"
   ]
  },
  {
   "cell_type": "code",
   "execution_count": 21,
   "metadata": {},
   "outputs": [
    {
     "name": "stdout",
     "output_type": "stream",
     "text": [
      "\n",
      "Epoch 00001: saving model to training_2/cp-0001.ckpt\n",
      "\n",
      "Epoch 00001: saving model to training_2/cp-0001.ckpt\n",
      "\n",
      "Epoch 00001: saving model to training_2/cp-0001.ckpt\n",
      "\n",
      "Epoch 00001: saving model to training_2/cp-0001.ckpt\n",
      "\n",
      "Epoch 00001: saving model to training_2/cp-0001.ckpt\n",
      "\n",
      "Epoch 00001: saving model to training_2/cp-0001.ckpt\n",
      "\n",
      "Epoch 00002: saving model to training_2/cp-0002.ckpt\n",
      "\n",
      "Epoch 00002: saving model to training_2/cp-0002.ckpt\n",
      "\n",
      "Epoch 00002: saving model to training_2/cp-0002.ckpt\n",
      "\n",
      "Epoch 00002: saving model to training_2/cp-0002.ckpt\n",
      "\n",
      "Epoch 00002: saving model to training_2/cp-0002.ckpt\n",
      "\n",
      "Epoch 00002: saving model to training_2/cp-0002.ckpt\n",
      "\n",
      "Epoch 00003: saving model to training_2/cp-0003.ckpt\n",
      "\n",
      "Epoch 00003: saving model to training_2/cp-0003.ckpt\n",
      "\n",
      "Epoch 00003: saving model to training_2/cp-0003.ckpt\n",
      "\n",
      "Epoch 00003: saving model to training_2/cp-0003.ckpt\n",
      "\n",
      "Epoch 00003: saving model to training_2/cp-0003.ckpt\n",
      "\n",
      "Epoch 00003: saving model to training_2/cp-0003.ckpt\n",
      "\n",
      "Epoch 00003: saving model to training_2/cp-0003.ckpt\n",
      "\n",
      "Epoch 00004: saving model to training_2/cp-0004.ckpt\n",
      "\n",
      "Epoch 00004: saving model to training_2/cp-0004.ckpt\n",
      "\n",
      "Epoch 00004: saving model to training_2/cp-0004.ckpt\n",
      "\n",
      "Epoch 00004: saving model to training_2/cp-0004.ckpt\n",
      "\n",
      "Epoch 00004: saving model to training_2/cp-0004.ckpt\n",
      "\n",
      "Epoch 00004: saving model to training_2/cp-0004.ckpt\n",
      "\n",
      "Epoch 00005: saving model to training_2/cp-0005.ckpt\n",
      "\n",
      "Epoch 00005: saving model to training_2/cp-0005.ckpt\n",
      "\n",
      "Epoch 00005: saving model to training_2/cp-0005.ckpt\n",
      "\n",
      "Epoch 00005: saving model to training_2/cp-0005.ckpt\n",
      "\n",
      "Epoch 00005: saving model to training_2/cp-0005.ckpt\n",
      "\n",
      "Epoch 00005: saving model to training_2/cp-0005.ckpt\n",
      "\n",
      "Epoch 00005: saving model to training_2/cp-0005.ckpt\n",
      "\n",
      "Epoch 00006: saving model to training_2/cp-0006.ckpt\n",
      "\n",
      "Epoch 00006: saving model to training_2/cp-0006.ckpt\n",
      "\n",
      "Epoch 00006: saving model to training_2/cp-0006.ckpt\n",
      "\n",
      "Epoch 00006: saving model to training_2/cp-0006.ckpt\n",
      "\n",
      "Epoch 00006: saving model to training_2/cp-0006.ckpt\n",
      "\n",
      "Epoch 00006: saving model to training_2/cp-0006.ckpt\n",
      "\n",
      "Epoch 00007: saving model to training_2/cp-0007.ckpt\n",
      "\n",
      "Epoch 00007: saving model to training_2/cp-0007.ckpt\n",
      "\n",
      "Epoch 00007: saving model to training_2/cp-0007.ckpt\n",
      "\n",
      "Epoch 00007: saving model to training_2/cp-0007.ckpt\n",
      "\n",
      "Epoch 00007: saving model to training_2/cp-0007.ckpt\n",
      "\n",
      "Epoch 00007: saving model to training_2/cp-0007.ckpt\n",
      "\n",
      "Epoch 00008: saving model to training_2/cp-0008.ckpt\n",
      "\n",
      "Epoch 00008: saving model to training_2/cp-0008.ckpt\n",
      "\n",
      "Epoch 00008: saving model to training_2/cp-0008.ckpt\n",
      "\n",
      "Epoch 00008: saving model to training_2/cp-0008.ckpt\n",
      "\n",
      "Epoch 00008: saving model to training_2/cp-0008.ckpt\n",
      "\n",
      "Epoch 00008: saving model to training_2/cp-0008.ckpt\n",
      "\n",
      "Epoch 00008: saving model to training_2/cp-0008.ckpt\n",
      "\n",
      "Epoch 00009: saving model to training_2/cp-0009.ckpt\n",
      "\n",
      "Epoch 00009: saving model to training_2/cp-0009.ckpt\n",
      "\n",
      "Epoch 00009: saving model to training_2/cp-0009.ckpt\n",
      "\n",
      "Epoch 00009: saving model to training_2/cp-0009.ckpt\n",
      "\n",
      "Epoch 00009: saving model to training_2/cp-0009.ckpt\n",
      "\n",
      "Epoch 00009: saving model to training_2/cp-0009.ckpt\n",
      "\n",
      "Epoch 00010: saving model to training_2/cp-0010.ckpt\n",
      "\n",
      "Epoch 00010: saving model to training_2/cp-0010.ckpt\n",
      "\n",
      "Epoch 00010: saving model to training_2/cp-0010.ckpt\n",
      "\n",
      "Epoch 00010: saving model to training_2/cp-0010.ckpt\n",
      "\n",
      "Epoch 00010: saving model to training_2/cp-0010.ckpt\n",
      "\n",
      "Epoch 00010: saving model to training_2/cp-0010.ckpt\n",
      "\n",
      "Epoch 00010: saving model to training_2/cp-0010.ckpt\n",
      "\n",
      "Epoch 00011: saving model to training_2/cp-0011.ckpt\n",
      "\n",
      "Epoch 00011: saving model to training_2/cp-0011.ckpt\n",
      "\n",
      "Epoch 00011: saving model to training_2/cp-0011.ckpt\n",
      "\n",
      "Epoch 00011: saving model to training_2/cp-0011.ckpt\n",
      "\n",
      "Epoch 00011: saving model to training_2/cp-0011.ckpt\n",
      "\n",
      "Epoch 00011: saving model to training_2/cp-0011.ckpt\n",
      "\n",
      "Epoch 00012: saving model to training_2/cp-0012.ckpt\n",
      "\n",
      "Epoch 00012: saving model to training_2/cp-0012.ckpt\n",
      "\n",
      "Epoch 00012: saving model to training_2/cp-0012.ckpt\n",
      "\n",
      "Epoch 00012: saving model to training_2/cp-0012.ckpt\n",
      "\n",
      "Epoch 00012: saving model to training_2/cp-0012.ckpt\n",
      "\n",
      "Epoch 00012: saving model to training_2/cp-0012.ckpt\n",
      "\n",
      "Epoch 00013: saving model to training_2/cp-0013.ckpt\n",
      "\n",
      "Epoch 00013: saving model to training_2/cp-0013.ckpt\n",
      "\n",
      "Epoch 00013: saving model to training_2/cp-0013.ckpt\n",
      "\n",
      "Epoch 00013: saving model to training_2/cp-0013.ckpt\n",
      "\n",
      "Epoch 00013: saving model to training_2/cp-0013.ckpt\n",
      "\n",
      "Epoch 00013: saving model to training_2/cp-0013.ckpt\n",
      "\n",
      "Epoch 00013: saving model to training_2/cp-0013.ckpt\n",
      "\n",
      "Epoch 00014: saving model to training_2/cp-0014.ckpt\n",
      "\n",
      "Epoch 00014: saving model to training_2/cp-0014.ckpt\n",
      "\n",
      "Epoch 00014: saving model to training_2/cp-0014.ckpt\n",
      "\n",
      "Epoch 00014: saving model to training_2/cp-0014.ckpt\n",
      "\n",
      "Epoch 00014: saving model to training_2/cp-0014.ckpt\n",
      "\n",
      "Epoch 00014: saving model to training_2/cp-0014.ckpt\n",
      "\n",
      "Epoch 00015: saving model to training_2/cp-0015.ckpt\n",
      "\n",
      "Epoch 00015: saving model to training_2/cp-0015.ckpt\n",
      "\n",
      "Epoch 00015: saving model to training_2/cp-0015.ckpt\n",
      "\n",
      "Epoch 00015: saving model to training_2/cp-0015.ckpt\n",
      "\n",
      "Epoch 00015: saving model to training_2/cp-0015.ckpt\n",
      "\n",
      "Epoch 00015: saving model to training_2/cp-0015.ckpt\n",
      "\n",
      "Epoch 00015: saving model to training_2/cp-0015.ckpt\n",
      "\n",
      "Epoch 00016: saving model to training_2/cp-0016.ckpt\n",
      "\n",
      "Epoch 00016: saving model to training_2/cp-0016.ckpt\n",
      "\n",
      "Epoch 00016: saving model to training_2/cp-0016.ckpt\n",
      "\n",
      "Epoch 00016: saving model to training_2/cp-0016.ckpt\n",
      "\n",
      "Epoch 00016: saving model to training_2/cp-0016.ckpt\n",
      "\n",
      "Epoch 00016: saving model to training_2/cp-0016.ckpt\n",
      "\n",
      "Epoch 00017: saving model to training_2/cp-0017.ckpt\n",
      "\n",
      "Epoch 00017: saving model to training_2/cp-0017.ckpt\n",
      "\n",
      "Epoch 00017: saving model to training_2/cp-0017.ckpt\n",
      "\n",
      "Epoch 00017: saving model to training_2/cp-0017.ckpt\n",
      "\n",
      "Epoch 00017: saving model to training_2/cp-0017.ckpt\n",
      "\n",
      "Epoch 00017: saving model to training_2/cp-0017.ckpt\n",
      "\n",
      "Epoch 00018: saving model to training_2/cp-0018.ckpt\n",
      "\n",
      "Epoch 00018: saving model to training_2/cp-0018.ckpt\n",
      "\n",
      "Epoch 00018: saving model to training_2/cp-0018.ckpt\n",
      "\n",
      "Epoch 00018: saving model to training_2/cp-0018.ckpt\n",
      "\n",
      "Epoch 00018: saving model to training_2/cp-0018.ckpt\n",
      "\n",
      "Epoch 00018: saving model to training_2/cp-0018.ckpt\n",
      "\n",
      "Epoch 00018: saving model to training_2/cp-0018.ckpt\n",
      "\n",
      "Epoch 00019: saving model to training_2/cp-0019.ckpt\n",
      "\n",
      "Epoch 00019: saving model to training_2/cp-0019.ckpt\n",
      "\n",
      "Epoch 00019: saving model to training_2/cp-0019.ckpt\n",
      "\n",
      "Epoch 00019: saving model to training_2/cp-0019.ckpt\n",
      "\n",
      "Epoch 00019: saving model to training_2/cp-0019.ckpt\n",
      "\n",
      "Epoch 00019: saving model to training_2/cp-0019.ckpt\n",
      "\n",
      "Epoch 00020: saving model to training_2/cp-0020.ckpt\n",
      "\n",
      "Epoch 00020: saving model to training_2/cp-0020.ckpt\n",
      "\n",
      "Epoch 00020: saving model to training_2/cp-0020.ckpt\n",
      "\n",
      "Epoch 00020: saving model to training_2/cp-0020.ckpt\n",
      "\n",
      "Epoch 00020: saving model to training_2/cp-0020.ckpt\n",
      "\n",
      "Epoch 00020: saving model to training_2/cp-0020.ckpt\n",
      "\n",
      "Epoch 00020: saving model to training_2/cp-0020.ckpt\n",
      "\n",
      "Epoch 00021: saving model to training_2/cp-0021.ckpt\n",
      "\n",
      "Epoch 00021: saving model to training_2/cp-0021.ckpt\n",
      "\n",
      "Epoch 00021: saving model to training_2/cp-0021.ckpt\n",
      "\n",
      "Epoch 00021: saving model to training_2/cp-0021.ckpt\n",
      "\n",
      "Epoch 00021: saving model to training_2/cp-0021.ckpt\n",
      "\n",
      "Epoch 00021: saving model to training_2/cp-0021.ckpt\n",
      "\n",
      "Epoch 00022: saving model to training_2/cp-0022.ckpt\n",
      "\n",
      "Epoch 00022: saving model to training_2/cp-0022.ckpt\n",
      "\n",
      "Epoch 00022: saving model to training_2/cp-0022.ckpt\n",
      "\n",
      "Epoch 00022: saving model to training_2/cp-0022.ckpt\n",
      "\n",
      "Epoch 00022: saving model to training_2/cp-0022.ckpt\n",
      "\n",
      "Epoch 00022: saving model to training_2/cp-0022.ckpt\n",
      "\n",
      "Epoch 00023: saving model to training_2/cp-0023.ckpt\n",
      "\n",
      "Epoch 00023: saving model to training_2/cp-0023.ckpt\n",
      "\n",
      "Epoch 00023: saving model to training_2/cp-0023.ckpt\n",
      "\n",
      "Epoch 00023: saving model to training_2/cp-0023.ckpt\n",
      "\n",
      "Epoch 00023: saving model to training_2/cp-0023.ckpt\n",
      "\n",
      "Epoch 00023: saving model to training_2/cp-0023.ckpt\n",
      "\n",
      "Epoch 00023: saving model to training_2/cp-0023.ckpt\n",
      "\n",
      "Epoch 00024: saving model to training_2/cp-0024.ckpt\n",
      "\n",
      "Epoch 00024: saving model to training_2/cp-0024.ckpt\n",
      "\n",
      "Epoch 00024: saving model to training_2/cp-0024.ckpt\n",
      "\n",
      "Epoch 00024: saving model to training_2/cp-0024.ckpt\n",
      "\n",
      "Epoch 00024: saving model to training_2/cp-0024.ckpt\n",
      "\n",
      "Epoch 00024: saving model to training_2/cp-0024.ckpt\n",
      "\n",
      "Epoch 00025: saving model to training_2/cp-0025.ckpt\n",
      "\n",
      "Epoch 00025: saving model to training_2/cp-0025.ckpt\n"
     ]
    },
    {
     "name": "stdout",
     "output_type": "stream",
     "text": [
      "\n",
      "Epoch 00025: saving model to training_2/cp-0025.ckpt\n",
      "\n",
      "Epoch 00025: saving model to training_2/cp-0025.ckpt\n",
      "\n",
      "Epoch 00025: saving model to training_2/cp-0025.ckpt\n",
      "\n",
      "Epoch 00025: saving model to training_2/cp-0025.ckpt\n",
      "\n",
      "Epoch 00025: saving model to training_2/cp-0025.ckpt\n",
      "\n",
      "Epoch 00026: saving model to training_2/cp-0026.ckpt\n",
      "\n",
      "Epoch 00026: saving model to training_2/cp-0026.ckpt\n",
      "\n",
      "Epoch 00026: saving model to training_2/cp-0026.ckpt\n",
      "\n",
      "Epoch 00026: saving model to training_2/cp-0026.ckpt\n",
      "\n",
      "Epoch 00026: saving model to training_2/cp-0026.ckpt\n",
      "\n",
      "Epoch 00026: saving model to training_2/cp-0026.ckpt\n",
      "\n",
      "Epoch 00027: saving model to training_2/cp-0027.ckpt\n",
      "\n",
      "Epoch 00027: saving model to training_2/cp-0027.ckpt\n",
      "\n",
      "Epoch 00027: saving model to training_2/cp-0027.ckpt\n",
      "\n",
      "Epoch 00027: saving model to training_2/cp-0027.ckpt\n",
      "\n",
      "Epoch 00027: saving model to training_2/cp-0027.ckpt\n",
      "\n",
      "Epoch 00027: saving model to training_2/cp-0027.ckpt\n",
      "\n",
      "Epoch 00028: saving model to training_2/cp-0028.ckpt\n",
      "\n",
      "Epoch 00028: saving model to training_2/cp-0028.ckpt\n",
      "\n",
      "Epoch 00028: saving model to training_2/cp-0028.ckpt\n",
      "\n",
      "Epoch 00028: saving model to training_2/cp-0028.ckpt\n",
      "\n",
      "Epoch 00028: saving model to training_2/cp-0028.ckpt\n",
      "\n",
      "Epoch 00028: saving model to training_2/cp-0028.ckpt\n",
      "\n",
      "Epoch 00028: saving model to training_2/cp-0028.ckpt\n",
      "\n",
      "Epoch 00029: saving model to training_2/cp-0029.ckpt\n",
      "\n",
      "Epoch 00029: saving model to training_2/cp-0029.ckpt\n",
      "\n",
      "Epoch 00029: saving model to training_2/cp-0029.ckpt\n",
      "\n",
      "Epoch 00029: saving model to training_2/cp-0029.ckpt\n",
      "\n",
      "Epoch 00029: saving model to training_2/cp-0029.ckpt\n",
      "\n",
      "Epoch 00029: saving model to training_2/cp-0029.ckpt\n",
      "\n",
      "Epoch 00030: saving model to training_2/cp-0030.ckpt\n",
      "\n",
      "Epoch 00030: saving model to training_2/cp-0030.ckpt\n",
      "\n",
      "Epoch 00030: saving model to training_2/cp-0030.ckpt\n",
      "\n",
      "Epoch 00030: saving model to training_2/cp-0030.ckpt\n",
      "\n",
      "Epoch 00030: saving model to training_2/cp-0030.ckpt\n",
      "\n",
      "Epoch 00030: saving model to training_2/cp-0030.ckpt\n",
      "\n",
      "Epoch 00030: saving model to training_2/cp-0030.ckpt\n",
      "\n",
      "Epoch 00031: saving model to training_2/cp-0031.ckpt\n",
      "\n",
      "Epoch 00031: saving model to training_2/cp-0031.ckpt\n",
      "\n",
      "Epoch 00031: saving model to training_2/cp-0031.ckpt\n",
      "\n",
      "Epoch 00031: saving model to training_2/cp-0031.ckpt\n",
      "\n",
      "Epoch 00031: saving model to training_2/cp-0031.ckpt\n",
      "\n",
      "Epoch 00031: saving model to training_2/cp-0031.ckpt\n",
      "\n",
      "Epoch 00032: saving model to training_2/cp-0032.ckpt\n",
      "\n",
      "Epoch 00032: saving model to training_2/cp-0032.ckpt\n",
      "\n",
      "Epoch 00032: saving model to training_2/cp-0032.ckpt\n",
      "\n",
      "Epoch 00032: saving model to training_2/cp-0032.ckpt\n",
      "\n",
      "Epoch 00032: saving model to training_2/cp-0032.ckpt\n",
      "\n",
      "Epoch 00032: saving model to training_2/cp-0032.ckpt\n",
      "\n",
      "Epoch 00033: saving model to training_2/cp-0033.ckpt\n",
      "\n",
      "Epoch 00033: saving model to training_2/cp-0033.ckpt\n",
      "\n",
      "Epoch 00033: saving model to training_2/cp-0033.ckpt\n",
      "\n",
      "Epoch 00033: saving model to training_2/cp-0033.ckpt\n",
      "\n",
      "Epoch 00033: saving model to training_2/cp-0033.ckpt\n",
      "\n",
      "Epoch 00033: saving model to training_2/cp-0033.ckpt\n",
      "\n",
      "Epoch 00033: saving model to training_2/cp-0033.ckpt\n",
      "\n",
      "Epoch 00034: saving model to training_2/cp-0034.ckpt\n",
      "\n",
      "Epoch 00034: saving model to training_2/cp-0034.ckpt\n",
      "\n",
      "Epoch 00034: saving model to training_2/cp-0034.ckpt\n",
      "\n",
      "Epoch 00034: saving model to training_2/cp-0034.ckpt\n",
      "\n",
      "Epoch 00034: saving model to training_2/cp-0034.ckpt\n",
      "\n",
      "Epoch 00034: saving model to training_2/cp-0034.ckpt\n",
      "\n",
      "Epoch 00035: saving model to training_2/cp-0035.ckpt\n",
      "\n",
      "Epoch 00035: saving model to training_2/cp-0035.ckpt\n",
      "\n",
      "Epoch 00035: saving model to training_2/cp-0035.ckpt\n",
      "\n",
      "Epoch 00035: saving model to training_2/cp-0035.ckpt\n",
      "\n",
      "Epoch 00035: saving model to training_2/cp-0035.ckpt\n",
      "\n",
      "Epoch 00035: saving model to training_2/cp-0035.ckpt\n",
      "\n",
      "Epoch 00035: saving model to training_2/cp-0035.ckpt\n",
      "\n",
      "Epoch 00036: saving model to training_2/cp-0036.ckpt\n",
      "\n",
      "Epoch 00036: saving model to training_2/cp-0036.ckpt\n",
      "\n",
      "Epoch 00036: saving model to training_2/cp-0036.ckpt\n",
      "\n",
      "Epoch 00036: saving model to training_2/cp-0036.ckpt\n",
      "\n",
      "Epoch 00036: saving model to training_2/cp-0036.ckpt\n",
      "\n",
      "Epoch 00036: saving model to training_2/cp-0036.ckpt\n",
      "\n",
      "Epoch 00037: saving model to training_2/cp-0037.ckpt\n",
      "\n",
      "Epoch 00037: saving model to training_2/cp-0037.ckpt\n",
      "\n",
      "Epoch 00037: saving model to training_2/cp-0037.ckpt\n",
      "\n",
      "Epoch 00037: saving model to training_2/cp-0037.ckpt\n",
      "\n",
      "Epoch 00037: saving model to training_2/cp-0037.ckpt\n",
      "\n",
      "Epoch 00037: saving model to training_2/cp-0037.ckpt\n",
      "\n",
      "Epoch 00038: saving model to training_2/cp-0038.ckpt\n",
      "\n",
      "Epoch 00038: saving model to training_2/cp-0038.ckpt\n",
      "\n",
      "Epoch 00038: saving model to training_2/cp-0038.ckpt\n",
      "\n",
      "Epoch 00038: saving model to training_2/cp-0038.ckpt\n",
      "\n",
      "Epoch 00038: saving model to training_2/cp-0038.ckpt\n",
      "\n",
      "Epoch 00038: saving model to training_2/cp-0038.ckpt\n",
      "\n",
      "Epoch 00038: saving model to training_2/cp-0038.ckpt\n",
      "\n",
      "Epoch 00039: saving model to training_2/cp-0039.ckpt\n",
      "\n",
      "Epoch 00039: saving model to training_2/cp-0039.ckpt\n",
      "\n",
      "Epoch 00039: saving model to training_2/cp-0039.ckpt\n",
      "\n",
      "Epoch 00039: saving model to training_2/cp-0039.ckpt\n",
      "\n",
      "Epoch 00039: saving model to training_2/cp-0039.ckpt\n",
      "\n",
      "Epoch 00039: saving model to training_2/cp-0039.ckpt\n",
      "\n",
      "Epoch 00040: saving model to training_2/cp-0040.ckpt\n",
      "\n",
      "Epoch 00040: saving model to training_2/cp-0040.ckpt\n",
      "\n",
      "Epoch 00040: saving model to training_2/cp-0040.ckpt\n",
      "\n",
      "Epoch 00040: saving model to training_2/cp-0040.ckpt\n",
      "\n",
      "Epoch 00040: saving model to training_2/cp-0040.ckpt\n",
      "\n",
      "Epoch 00040: saving model to training_2/cp-0040.ckpt\n",
      "\n",
      "Epoch 00040: saving model to training_2/cp-0040.ckpt\n",
      "\n",
      "Epoch 00041: saving model to training_2/cp-0041.ckpt\n",
      "\n",
      "Epoch 00041: saving model to training_2/cp-0041.ckpt\n",
      "\n",
      "Epoch 00041: saving model to training_2/cp-0041.ckpt\n",
      "\n",
      "Epoch 00041: saving model to training_2/cp-0041.ckpt\n",
      "\n",
      "Epoch 00041: saving model to training_2/cp-0041.ckpt\n",
      "\n",
      "Epoch 00041: saving model to training_2/cp-0041.ckpt\n",
      "\n",
      "Epoch 00042: saving model to training_2/cp-0042.ckpt\n",
      "\n",
      "Epoch 00042: saving model to training_2/cp-0042.ckpt\n",
      "\n",
      "Epoch 00042: saving model to training_2/cp-0042.ckpt\n",
      "\n",
      "Epoch 00042: saving model to training_2/cp-0042.ckpt\n",
      "\n",
      "Epoch 00042: saving model to training_2/cp-0042.ckpt\n",
      "\n",
      "Epoch 00042: saving model to training_2/cp-0042.ckpt\n",
      "\n",
      "Epoch 00043: saving model to training_2/cp-0043.ckpt\n",
      "\n",
      "Epoch 00043: saving model to training_2/cp-0043.ckpt\n",
      "\n",
      "Epoch 00043: saving model to training_2/cp-0043.ckpt\n",
      "\n",
      "Epoch 00043: saving model to training_2/cp-0043.ckpt\n",
      "\n",
      "Epoch 00043: saving model to training_2/cp-0043.ckpt\n",
      "\n",
      "Epoch 00043: saving model to training_2/cp-0043.ckpt\n",
      "\n",
      "Epoch 00043: saving model to training_2/cp-0043.ckpt\n",
      "\n",
      "Epoch 00044: saving model to training_2/cp-0044.ckpt\n",
      "\n",
      "Epoch 00044: saving model to training_2/cp-0044.ckpt\n",
      "\n",
      "Epoch 00044: saving model to training_2/cp-0044.ckpt\n",
      "\n",
      "Epoch 00044: saving model to training_2/cp-0044.ckpt\n",
      "\n",
      "Epoch 00044: saving model to training_2/cp-0044.ckpt\n",
      "\n",
      "Epoch 00044: saving model to training_2/cp-0044.ckpt\n",
      "\n",
      "Epoch 00045: saving model to training_2/cp-0045.ckpt\n",
      "\n",
      "Epoch 00045: saving model to training_2/cp-0045.ckpt\n",
      "\n",
      "Epoch 00045: saving model to training_2/cp-0045.ckpt\n",
      "\n",
      "Epoch 00045: saving model to training_2/cp-0045.ckpt\n",
      "\n",
      "Epoch 00045: saving model to training_2/cp-0045.ckpt\n",
      "\n",
      "Epoch 00045: saving model to training_2/cp-0045.ckpt\n",
      "\n",
      "Epoch 00045: saving model to training_2/cp-0045.ckpt\n",
      "\n",
      "Epoch 00046: saving model to training_2/cp-0046.ckpt\n",
      "\n",
      "Epoch 00046: saving model to training_2/cp-0046.ckpt\n",
      "\n",
      "Epoch 00046: saving model to training_2/cp-0046.ckpt\n",
      "\n",
      "Epoch 00046: saving model to training_2/cp-0046.ckpt\n",
      "\n",
      "Epoch 00046: saving model to training_2/cp-0046.ckpt\n",
      "\n",
      "Epoch 00046: saving model to training_2/cp-0046.ckpt\n",
      "\n",
      "Epoch 00047: saving model to training_2/cp-0047.ckpt\n",
      "\n",
      "Epoch 00047: saving model to training_2/cp-0047.ckpt\n",
      "\n",
      "Epoch 00047: saving model to training_2/cp-0047.ckpt\n",
      "\n",
      "Epoch 00047: saving model to training_2/cp-0047.ckpt\n",
      "\n",
      "Epoch 00047: saving model to training_2/cp-0047.ckpt\n",
      "\n",
      "Epoch 00047: saving model to training_2/cp-0047.ckpt\n",
      "\n",
      "Epoch 00048: saving model to training_2/cp-0048.ckpt\n",
      "\n",
      "Epoch 00048: saving model to training_2/cp-0048.ckpt\n",
      "\n",
      "Epoch 00048: saving model to training_2/cp-0048.ckpt\n",
      "\n",
      "Epoch 00048: saving model to training_2/cp-0048.ckpt\n",
      "\n",
      "Epoch 00048: saving model to training_2/cp-0048.ckpt\n",
      "\n",
      "Epoch 00048: saving model to training_2/cp-0048.ckpt\n",
      "\n",
      "Epoch 00048: saving model to training_2/cp-0048.ckpt\n",
      "\n",
      "Epoch 00049: saving model to training_2/cp-0049.ckpt\n",
      "\n",
      "Epoch 00049: saving model to training_2/cp-0049.ckpt\n"
     ]
    },
    {
     "name": "stdout",
     "output_type": "stream",
     "text": [
      "\n",
      "Epoch 00049: saving model to training_2/cp-0049.ckpt\n",
      "\n",
      "Epoch 00049: saving model to training_2/cp-0049.ckpt\n",
      "\n",
      "Epoch 00049: saving model to training_2/cp-0049.ckpt\n",
      "\n",
      "Epoch 00049: saving model to training_2/cp-0049.ckpt\n",
      "\n",
      "Epoch 00050: saving model to training_2/cp-0050.ckpt\n",
      "\n",
      "Epoch 00050: saving model to training_2/cp-0050.ckpt\n",
      "\n",
      "Epoch 00050: saving model to training_2/cp-0050.ckpt\n",
      "\n",
      "Epoch 00050: saving model to training_2/cp-0050.ckpt\n",
      "\n",
      "Epoch 00050: saving model to training_2/cp-0050.ckpt\n",
      "\n",
      "Epoch 00050: saving model to training_2/cp-0050.ckpt\n",
      "\n",
      "Epoch 00050: saving model to training_2/cp-0050.ckpt\n"
     ]
    },
    {
     "data": {
      "text/plain": [
       "<tensorflow.python.keras.callbacks.History at 0x134340be0>"
      ]
     },
     "execution_count": 21,
     "metadata": {},
     "output_type": "execute_result"
    }
   ],
   "source": [
    "model.fit(train_images, \n",
    "          train_labels,\n",
    "          epochs=50, \n",
    "          callbacks=[cp_callback],\n",
    "          validation_data=(test_images,test_labels),\n",
    "          verbose=0)"
   ]
  },
  {
   "cell_type": "code",
   "execution_count": 22,
   "metadata": {},
   "outputs": [
    {
     "data": {
      "text/plain": [
       "'training_2/cp-0050.ckpt'"
      ]
     },
     "execution_count": 22,
     "metadata": {},
     "output_type": "execute_result"
    }
   ],
   "source": [
    "latest = tf.train.latest_checkpoint(checkpoint_dir)\n",
    "latest"
   ]
  },
  {
   "cell_type": "code",
   "execution_count": 23,
   "metadata": {},
   "outputs": [
    {
     "data": {
      "text/plain": [
       "<tensorflow.python.training.tracking.util.CheckpointLoadStatus at 0x1344573a0>"
      ]
     },
     "execution_count": 23,
     "metadata": {},
     "output_type": "execute_result"
    }
   ],
   "source": [
    "model = create_model()\n",
    "model.load_weights(latest)"
   ]
  },
  {
   "cell_type": "code",
   "execution_count": 24,
   "metadata": {},
   "outputs": [
    {
     "name": "stdout",
     "output_type": "stream",
     "text": [
      "32/32 - 0s - loss: 0.4774 - accuracy: 0.8810\n",
      "복원된 모델의 정확도: 88.10%\n"
     ]
    }
   ],
   "source": [
    "loss, acc = model.evaluate(test_images,  test_labels, verbose=2)\n",
    "print(\"복원된 모델의 정확도: {:5.2f}%\".format(100*acc))"
   ]
  },
  {
   "cell_type": "markdown",
   "metadata": {},
   "source": [
    "## 전체 모델 저장"
   ]
  },
  {
   "cell_type": "code",
   "execution_count": 25,
   "metadata": {},
   "outputs": [
    {
     "name": "stdout",
     "output_type": "stream",
     "text": [
      "Epoch 1/5\n",
      "32/32 [==============================] - 0s 3ms/step - loss: 1.1656 - accuracy: 0.6680\n",
      "Epoch 2/5\n",
      "32/32 [==============================] - 0s 2ms/step - loss: 0.4329 - accuracy: 0.8740\n",
      "Epoch 3/5\n",
      "32/32 [==============================] - 0s 2ms/step - loss: 0.2937 - accuracy: 0.9200\n",
      "Epoch 4/5\n",
      "32/32 [==============================] - 0s 2ms/step - loss: 0.2062 - accuracy: 0.9580\n",
      "Epoch 5/5\n",
      "32/32 [==============================] - 0s 2ms/step - loss: 0.1596 - accuracy: 0.9630\n"
     ]
    },
    {
     "data": {
      "text/plain": [
       "<tensorflow.python.keras.callbacks.History at 0x1344e0df0>"
      ]
     },
     "execution_count": 25,
     "metadata": {},
     "output_type": "execute_result"
    }
   ],
   "source": [
    "model = create_model()\n",
    "model.fit(train_images, train_labels, epochs=5)"
   ]
  },
  {
   "cell_type": "code",
   "execution_count": 26,
   "metadata": {},
   "outputs": [
    {
     "name": "stdout",
     "output_type": "stream",
     "text": [
      "WARNING:tensorflow:From /usr/local/lib/python3.8/site-packages/tensorflow/python/training/tracking/tracking.py:111: Model.state_updates (from tensorflow.python.keras.engine.training) is deprecated and will be removed in a future version.\n",
      "Instructions for updating:\n",
      "This property should not be used in TensorFlow 2.0, as updates are applied automatically.\n",
      "WARNING:tensorflow:From /usr/local/lib/python3.8/site-packages/tensorflow/python/training/tracking/tracking.py:111: Layer.updates (from tensorflow.python.keras.engine.base_layer) is deprecated and will be removed in a future version.\n",
      "Instructions for updating:\n",
      "This property should not be used in TensorFlow 2.0, as updates are applied automatically.\n",
      "WARNING:tensorflow:Unresolved object in checkpoint: (root).optimizer.iter\n",
      "WARNING:tensorflow:Unresolved object in checkpoint: (root).optimizer.beta_1\n",
      "WARNING:tensorflow:Unresolved object in checkpoint: (root).optimizer.beta_2\n",
      "WARNING:tensorflow:Unresolved object in checkpoint: (root).optimizer.decay\n",
      "WARNING:tensorflow:Unresolved object in checkpoint: (root).optimizer.learning_rate\n",
      "WARNING:tensorflow:A checkpoint was restored (e.g. tf.train.Checkpoint.restore or tf.keras.Model.load_weights) but not all checkpointed values were used. See above for specific issues. Use expect_partial() on the load status object, e.g. tf.train.Checkpoint.restore(...).expect_partial(), to silence these warnings, or use assert_consumed() to make the check explicit. See https://www.tensorflow.org/guide/checkpoint#loading_mechanics for details.\n",
      "INFO:tensorflow:Assets written to: saved_model/my_model/assets\n"
     ]
    }
   ],
   "source": [
    "!mkdir -p saved_model\n",
    "model.save('saved_model/my_model')"
   ]
  },
  {
   "cell_type": "code",
   "execution_count": 27,
   "metadata": {},
   "outputs": [
    {
     "name": "stdout",
     "output_type": "stream",
     "text": [
      "Epoch 1/5\n",
      "32/32 [==============================] - 0s 2ms/step - loss: 1.1520 - accuracy: 0.6620\n",
      "Epoch 2/5\n",
      "32/32 [==============================] - 0s 2ms/step - loss: 0.4165 - accuracy: 0.8820\n",
      "Epoch 3/5\n",
      "32/32 [==============================] - 0s 2ms/step - loss: 0.2914 - accuracy: 0.9240\n",
      "Epoch 4/5\n",
      "32/32 [==============================] - 0s 2ms/step - loss: 0.2109 - accuracy: 0.9460\n",
      "Epoch 5/5\n",
      "32/32 [==============================] - 0s 2ms/step - loss: 0.1500 - accuracy: 0.9670\n"
     ]
    }
   ],
   "source": [
    "model = create_model()\n",
    "model.fit(train_images, train_labels, epochs=5)\n",
    "\n",
    "model.save('my_model.h5') "
   ]
  },
  {
   "cell_type": "code",
   "execution_count": 28,
   "metadata": {},
   "outputs": [
    {
     "name": "stdout",
     "output_type": "stream",
     "text": [
      "Model: \"sequential_5\"\n",
      "_________________________________________________________________\n",
      "Layer (type)                 Output Shape              Param #   \n",
      "=================================================================\n",
      "dense_10 (Dense)             (None, 512)               401920    \n",
      "_________________________________________________________________\n",
      "dropout_5 (Dropout)          (None, 512)               0         \n",
      "_________________________________________________________________\n",
      "dense_11 (Dense)             (None, 10)                5130      \n",
      "=================================================================\n",
      "Total params: 407,050\n",
      "Trainable params: 407,050\n",
      "Non-trainable params: 0\n",
      "_________________________________________________________________\n"
     ]
    }
   ],
   "source": [
    "new_model = tf.keras.models.load_model('my_model.h5')\n",
    "new_model.summary()"
   ]
  },
  {
   "cell_type": "code",
   "execution_count": 29,
   "metadata": {},
   "outputs": [
    {
     "name": "stdout",
     "output_type": "stream",
     "text": [
      "32/32 - 0s - loss: 0.4340 - accuracy: 0.0830\n",
      "복원된 모델의 정확도:  8.30%\n"
     ]
    }
   ],
   "source": [
    "loss, acc = new_model.evaluate(test_images,  test_labels, verbose=2)\n",
    "print('복원된 모델의 정확도: {:5.2f}%'.format(100*acc))"
   ]
  },
  {
   "cell_type": "code",
   "execution_count": null,
   "metadata": {},
   "outputs": [],
   "source": []
  }
 ],
 "metadata": {
  "kernelspec": {
   "display_name": "Python 3",
   "language": "python",
   "name": "python3"
  },
  "language_info": {
   "codemirror_mode": {
    "name": "ipython",
    "version": 3
   },
   "file_extension": ".py",
   "mimetype": "text/x-python",
   "name": "python",
   "nbconvert_exporter": "python",
   "pygments_lexer": "ipython3",
   "version": "3.8.5"
  }
 },
 "nbformat": 4,
 "nbformat_minor": 4
}
